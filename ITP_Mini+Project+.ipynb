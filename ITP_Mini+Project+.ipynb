{
 "cells": [
  {
   "cell_type": "markdown",
   "metadata": {},
   "source": [
    "# Miniproject"
   ]
  },
  {
   "cell_type": "markdown",
   "metadata": {},
   "source": [
    "### Q1. Create a Dictionary of lists to store the information of shipments given in the table"
   ]
  },
  {
   "cell_type": "code",
   "execution_count": 149,
   "metadata": {},
   "outputs": [
    {
     "data": {
      "text/plain": [
       "{101: [1, 3, '14-03-2020', '25-03-2020', 'Area1', 'Area6', 'Delivered', 198],\n",
       " 102: [4, 1, '18-06-2020', '09-07-2020', 'Area2', 'Area4', 'Delivered', 275],\n",
       " 103: [2, 3, '01-12-2020', 'Null', 'Area5', 'Area1', 'In-Transit', 200],\n",
       " 104: [1, 5, '23-06-2020', '25-06-2020', 'Area1', 'Area4', 'Delivered', 314],\n",
       " 105: [3, 4, '29-08-2020', '10-09-2020', 'Area5', 'Area3', 'Delivered', 275],\n",
       " 106: [5, 2, '28-09-2020', 'Null', 'Area3', 'Area1', 'In-Transit', 270]}"
      ]
     },
     "execution_count": 149,
     "metadata": {},
     "output_type": "execute_result"
    }
   ],
   "source": [
    "ship = {101:[1,3,'14-03-2020','25-03-2020','Area1','Area6','Delivered',198],\n",
    "        102: [4 ,1,'18-06-2020','09-07-2020','Area2','Area4','Delivered',275],\n",
    "        103 :[2,3,'01-12-2020','Null','Area5','Area1','In-Transit',200],\n",
    "        104 :[1,5,'23-06-2020','25-06-2020','Area1','Area4','Delivered',314],\n",
    "        105: [3,4,'29-08-2020','10-09-2020','Area5','Area3','Delivered',275],\n",
    "        106:[5,2,'28-09-2020','Null','Area3','Area1','In-Transit',270] }\n",
    "ship"
   ]
  },
  {
   "cell_type": "markdown",
   "metadata": {},
   "source": [
    "\n",
    "\n",
    "### Q2. Create a Dictionary of to store the information of clients given in the table."
   ]
  },
  {
   "cell_type": "code",
   "execution_count": 150,
   "metadata": {},
   "outputs": [
    {
     "data": {
      "text/plain": [
       "{1: 'Phillip', 2: 'Omega III', 3: 'Ramya', 4: 'Romesh', 5: 'John'}"
      ]
     },
     "execution_count": 150,
     "metadata": {},
     "output_type": "execute_result"
    }
   ],
   "source": [
    "clients = {1:'Phillip',2:'Omega III',3:'Ramya',4:'Romesh',5:'John'}\n",
    "clients"
   ]
  },
  {
   "cell_type": "markdown",
   "metadata": {},
   "source": [
    "### Q3. Write a code to replace clients id with their respective name in shipment dictionary using a loop and dictionary comprehension"
   ]
  },
  {
   "cell_type": "code",
   "execution_count": 151,
   "metadata": {},
   "outputs": [
    {
     "data": {
      "text/plain": [
       "{101: ['Phillip',\n",
       "  'Ramya',\n",
       "  '14-03-2020',\n",
       "  '25-03-2020',\n",
       "  'Area1',\n",
       "  'Area6',\n",
       "  'Delivered',\n",
       "  198],\n",
       " 102: ['Romesh',\n",
       "  'Phillip',\n",
       "  '18-06-2020',\n",
       "  '09-07-2020',\n",
       "  'Area2',\n",
       "  'Area4',\n",
       "  'Delivered',\n",
       "  275],\n",
       " 103: ['Omega III',\n",
       "  'Ramya',\n",
       "  '01-12-2020',\n",
       "  'Null',\n",
       "  'Area5',\n",
       "  'Area1',\n",
       "  'In-Transit',\n",
       "  200],\n",
       " 104: ['Phillip',\n",
       "  'John',\n",
       "  '23-06-2020',\n",
       "  '25-06-2020',\n",
       "  'Area1',\n",
       "  'Area4',\n",
       "  'Delivered',\n",
       "  314],\n",
       " 105: ['Ramya',\n",
       "  'Romesh',\n",
       "  '29-08-2020',\n",
       "  '10-09-2020',\n",
       "  'Area5',\n",
       "  'Area3',\n",
       "  'Delivered',\n",
       "  275],\n",
       " 106: ['John',\n",
       "  'Omega III',\n",
       "  '28-09-2020',\n",
       "  'Null',\n",
       "  'Area3',\n",
       "  'Area1',\n",
       "  'In-Transit',\n",
       "  270]}"
      ]
     },
     "execution_count": 151,
     "metadata": {},
     "output_type": "execute_result"
    }
   ],
   "source": [
    "for i in ship:\n",
    "    a,b = ship[i][0],ship[i][1]\n",
    "    ship[i][0]=clients[a]\n",
    "    ship[i][1]=clients[b]\n",
    "ship"
   ]
  },
  {
   "cell_type": "code",
   "execution_count": 153,
   "metadata": {},
   "outputs": [
    {
     "data": {
      "text/plain": [
       "{101: ['Phillip',\n",
       "  'Ramya',\n",
       "  '14-03-2020',\n",
       "  '25-03-2020',\n",
       "  'Area1',\n",
       "  'Area6',\n",
       "  'Delivered'],\n",
       " 102: ['Romesh',\n",
       "  'Phillip',\n",
       "  '18-06-2020',\n",
       "  '09-07-2020',\n",
       "  'Area2',\n",
       "  'Area4',\n",
       "  'Delivered'],\n",
       " 103: ['Omega III',\n",
       "  'Ramya',\n",
       "  '01-12-2020',\n",
       "  'Null',\n",
       "  'Area5',\n",
       "  'Area1',\n",
       "  'In-Transit'],\n",
       " 104: ['Phillip',\n",
       "  'John',\n",
       "  '23-06-2020',\n",
       "  '25-06-2020',\n",
       "  'Area1',\n",
       "  'Area4',\n",
       "  'Delivered'],\n",
       " 105: ['Ramya',\n",
       "  'Romesh',\n",
       "  '29-08-2020',\n",
       "  '10-09-2020',\n",
       "  'Area5',\n",
       "  'Area3',\n",
       "  'Delivered'],\n",
       " 106: ['John',\n",
       "  'Omega III',\n",
       "  '28-09-2020',\n",
       "  'Null',\n",
       "  'Area3',\n",
       "  'Area1',\n",
       "  'In-Transit']}"
      ]
     },
     "execution_count": 153,
     "metadata": {},
     "output_type": "execute_result"
    }
   ],
   "source": [
    "ship = {101:[1,3,'14-03-2020','25-03-2020','Area1','Area6','Delivered',198],\n",
    "        102: [4 ,1,'18-06-2020','09-07-2020','Area2','Area4','Delivered',275],\n",
    "        103 :[2,3,'01-12-2020','Null','Area5','Area1','In-Transit',200],\n",
    "        104 :[1,5,'23-06-2020','25-06-2020','Area1','Area4','Delivered',314],\n",
    "        105: [3,4,'29-08-2020','10-09-2020','Area5','Area3','Delivered',275],\n",
    "        106:[5,2,'28-09-2020','Null','Area3','Area1','In-Transit',270] }\n",
    "\n",
    "\n",
    "ship = {i:[clients[ship[i][0]],clients[ship[i][1]],ship[i][2],ship[i][3],ship[i][4],ship[i][5],ship[i][6]] for i in ship} \n",
    "ship"
   ]
  },
  {
   "cell_type": "markdown",
   "metadata": {},
   "source": [
    "### Q4. Print all shipment details that are sent by Phillip"
   ]
  },
  {
   "cell_type": "code",
   "execution_count": 154,
   "metadata": {},
   "outputs": [
    {
     "name": "stdout",
     "output_type": "stream",
     "text": [
      "['Phillip', 'Ramya', '14-03-2020', '25-03-2020', 'Area1', 'Area6', 'Delivered']\n",
      "['Phillip', 'John', '23-06-2020', '25-06-2020', 'Area1', 'Area4', 'Delivered']\n"
     ]
    }
   ],
   "source": [
    "for i in ship:\n",
    "    if (ship[i][0] == 'Phillip'):\n",
    "        print(ship[i])"
   ]
  },
  {
   "cell_type": "markdown",
   "metadata": {},
   "source": [
    "### Q5. Print all shipment details that are received by Ramya"
   ]
  },
  {
   "cell_type": "code",
   "execution_count": 155,
   "metadata": {},
   "outputs": [
    {
     "name": "stdout",
     "output_type": "stream",
     "text": [
      "['Phillip', 'Ramya', '14-03-2020', '25-03-2020', 'Area1', 'Area6', 'Delivered']\n",
      "['Omega III', 'Ramya', '01-12-2020', 'Null', 'Area5', 'Area1', 'In-Transit']\n"
     ]
    }
   ],
   "source": [
    "for i in ship:\n",
    "    if (ship[i][1] == 'Ramya'):\n",
    "        print(ship[i])"
   ]
  },
  {
   "cell_type": "markdown",
   "metadata": {},
   "source": [
    "### Q6. Print all shipments which are in 'In-Transit' status"
   ]
  },
  {
   "cell_type": "code",
   "execution_count": 156,
   "metadata": {},
   "outputs": [
    {
     "name": "stdout",
     "output_type": "stream",
     "text": [
      "['Omega III', 'Ramya', '01-12-2020', 'Null', 'Area5', 'Area1', 'In-Transit']\n",
      "['John', 'Omega III', '28-09-2020', 'Null', 'Area3', 'Area1', 'In-Transit']\n"
     ]
    }
   ],
   "source": [
    "for i in ship:\n",
    "    if (ship[i][6] == 'In-Transit'):\n",
    "        print(ship[i])"
   ]
  },
  {
   "cell_type": "markdown",
   "metadata": {},
   "source": [
    "### Q7. Print all shipments which are delivered within 7 days of courier Start date"
   ]
  },
  {
   "cell_type": "code",
   "execution_count": 157,
   "metadata": {},
   "outputs": [
    {
     "name": "stdout",
     "output_type": "stream",
     "text": [
      "['Phillip', 'John', '23-06-2020', '25-06-2020', 'Area1', 'Area4', 'Delivered']\n"
     ]
    }
   ],
   "source": [
    "\n",
    "import datetime as dt\n",
    "for i in ship:\n",
    "    if (ship[i][3] != 'Null'):\n",
    "        start = dt.datetime.strptime(ship[i][2], \"%d-%m-%Y\")\n",
    "        end = dt.datetime.strptime(ship[i][3], \"%d-%m-%Y\")\n",
    "        if (end-start)<= dt.timedelta(days=7):\n",
    "            print(ship[i])\n",
    "  "
   ]
  },
  {
   "cell_type": "markdown",
   "metadata": {},
   "source": [
    "### Q8. Print all shipments which are delivered after 15 days of courier start date or not yet been delivered."
   ]
  },
  {
   "cell_type": "code",
   "execution_count": 158,
   "metadata": {},
   "outputs": [
    {
     "name": "stdout",
     "output_type": "stream",
     "text": [
      "['Romesh', 'Phillip', '18-06-2020', '09-07-2020', 'Area2', 'Area4', 'Delivered']\n",
      "['Omega III', 'Ramya', '01-12-2020', 'Null', 'Area5', 'Area1', 'In-Transit']\n",
      "['John', 'Omega III', '28-09-2020', 'Null', 'Area3', 'Area1', 'In-Transit']\n"
     ]
    }
   ],
   "source": [
    "import datetime as dt\n",
    "for i in ship:\n",
    "    if (ship[i][3] == 'Null'):\n",
    "        print(ship[i])\n",
    "    else:\n",
    "        start = dt.datetime.strptime(ship[i][2], \"%d-%m-%Y\")\n",
    "        end = dt.datetime.strptime(ship[i][3], \"%d-%m-%Y\")\n",
    "        if (end-start) > dt.timedelta(days = 15):\n",
    "            print(ship[i])"
   ]
  },
  {
   "cell_type": "markdown",
   "metadata": {},
   "source": [
    "![](graph.png)"
   ]
  },
  {
   "cell_type": "markdown",
   "metadata": {},
   "source": [
    "### Q9.Write a function `find_all_routes` to display all possible routes from senders location to receivers location given in the dictionary for each shipment."
   ]
  },
  {
   "cell_type": "code",
   "execution_count": 159,
   "metadata": {},
   "outputs": [],
   "source": [
    "def find_all_routes(matrix,u,d,visited,path):     \n",
    "        visited[u]= True\n",
    "        path.append(u+1) \n",
    "        if u == d: \n",
    "            print(path) \n",
    "        else: \n",
    "             \n",
    "            for i in range(6):\n",
    "                if matrix[u][i] == 1 and (visited[i]== False): \n",
    "                    find_all_routes(matrix,i, d, visited, path) \n",
    "                      \n",
    "       \n",
    "        path.pop() \n",
    "        visited[u]= False\n",
    "   \n",
    "   \n",
    "matrix = [[0,1,0,0,0,1],[1,0,1,1,0,0],[0,1,0,1,0,0],[0,1,1,0,1,0],[0,0,0,1,0,0],[1,0,0,0,0,0]]\n",
    "visited=[False for i in range(6)]\n",
    "path = []\n"
   ]
  },
  {
   "cell_type": "code",
   "execution_count": 160,
   "metadata": {},
   "outputs": [
    {
     "name": "stdout",
     "output_type": "stream",
     "text": [
      "Shipment Id:  101\n",
      "Sender's Location 1\n",
      "Receiver's Location 6\n",
      "All possible routes : \n",
      "[1, 6]\n",
      "-----------------------------------\n",
      "Shipment Id:  102\n",
      "Sender's Location 2\n",
      "Receiver's Location 4\n",
      "All possible routes : \n",
      "[2, 3, 4]\n",
      "[2, 4]\n",
      "-----------------------------------\n",
      "Shipment Id:  103\n",
      "Sender's Location 5\n",
      "Receiver's Location 1\n",
      "All possible routes : \n",
      "[5, 4, 2, 1]\n",
      "[5, 4, 3, 2, 1]\n",
      "-----------------------------------\n",
      "Shipment Id:  104\n",
      "Sender's Location 1\n",
      "Receiver's Location 4\n",
      "All possible routes : \n",
      "[1, 2, 3, 4]\n",
      "[1, 2, 4]\n",
      "-----------------------------------\n",
      "Shipment Id:  105\n",
      "Sender's Location 5\n",
      "Receiver's Location 3\n",
      "All possible routes : \n",
      "[5, 4, 2, 3]\n",
      "[5, 4, 3]\n",
      "-----------------------------------\n",
      "Shipment Id:  106\n",
      "Sender's Location 3\n",
      "Receiver's Location 1\n",
      "All possible routes : \n",
      "[3, 2, 1]\n",
      "[3, 4, 2, 1]\n",
      "-----------------------------------\n"
     ]
    }
   ],
   "source": [
    "def Show_all(ship):\n",
    "    for i in ship:\n",
    "        print('Shipment Id: ',i)\n",
    "        s = int(ship[i][4][-1])\n",
    "        print(\"Sender's Location\" , s)\n",
    "        r = int(ship[i][5][-1])\n",
    "        print(\"Receiver's Location\" , r)\n",
    "        print('All possible routes : ')\n",
    "        find_all_routes(matrix,s-1,r-1,visited,path)\n",
    "        print('-----------------------------------')\n",
    "        \n",
    "Show_all(ship)"
   ]
  }
 ],
 "metadata": {
  "kernelspec": {
   "display_name": "Python 3",
   "language": "python",
   "name": "python3"
  },
  "language_info": {
   "codemirror_mode": {
    "name": "ipython",
    "version": 3
   },
   "file_extension": ".py",
   "mimetype": "text/x-python",
   "name": "python",
   "nbconvert_exporter": "python",
   "pygments_lexer": "ipython3",
   "version": "3.8.8"
  }
 },
 "nbformat": 4,
 "nbformat_minor": 2
}
